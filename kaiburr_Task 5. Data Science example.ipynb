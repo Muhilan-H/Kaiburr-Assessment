{
 "cells": [
  {
   "cell_type": "markdown",
   "metadata": {},
   "source": [
    "<h1>Given Task: Perform a Text Classification on consumer complaint dataset</h1> \n",
    "Dataset: (https://catalog.data.gov/dataset/consumer-complaint-database)"
   ]
  },
  {
   "cell_type": "markdown",
   "metadata": {},
   "source": [
    "#### 1.Explanatory Data Analysis and Feature Engineering "
   ]
  },
  {
   "cell_type": "code",
   "execution_count": 1,
   "metadata": {},
   "outputs": [],
   "source": [
    "# Importing required libraries\n",
    "import pandas as pd\n",
    "import numpy as np\n",
    "import matplotlib.pyplot as plt\n",
    "import seaborn as sns\n"
   ]
  },
  {
   "cell_type": "code",
   "execution_count": 2,
   "metadata": {},
   "outputs": [
    {
     "name": "stderr",
     "output_type": "stream",
     "text": [
      "C:\\Users\\Muhilan\\AppData\\Local\\Temp\\ipykernel_11812\\3342166241.py:2: DtypeWarning: Columns (16) have mixed types. Specify dtype option on import or set low_memory=False.\n",
      "  df = pd.read_csv(r\"D:\\complaints.csv\")\n"
     ]
    },
    {
     "name": "stdout",
     "output_type": "stream",
     "text": [
      "  Date received                                            Product  \\\n",
      "0    2025-01-29  Credit reporting or other personal consumer re...   \n",
      "1    2025-01-30  Credit reporting or other personal consumer re...   \n",
      "2    2025-01-29  Payday loan, title loan, personal loan, or adv...   \n",
      "3    2025-01-27  Credit reporting or other personal consumer re...   \n",
      "4    2025-01-28  Credit reporting or other personal consumer re...   \n",
      "\n",
      "        Sub-product                                              Issue  \\\n",
      "0  Credit reporting               Incorrect information on your report   \n",
      "1  Credit reporting                        Improper use of your report   \n",
      "2  Installment loan                       Problem when making payments   \n",
      "3  Credit reporting  Problem with a company's investigation into an...   \n",
      "4  Credit reporting                        Improper use of your report   \n",
      "\n",
      "                                           Sub-issue  \\\n",
      "0                           Account status incorrect   \n",
      "1      Reporting company used your report improperly   \n",
      "2                                                NaN   \n",
      "3  Their investigation did not fix an error on yo...   \n",
      "4      Reporting company used your report improperly   \n",
      "\n",
      "  Consumer complaint narrative Company public response  \\\n",
      "0                          NaN                     NaN   \n",
      "1                          NaN                     NaN   \n",
      "2                          NaN                     NaN   \n",
      "3                          NaN                     NaN   \n",
      "4                          NaN                     NaN   \n",
      "\n",
      "                               Company State ZIP code Tags  \\\n",
      "0  Experian Information Solutions Inc.    NY    12543  NaN   \n",
      "1  Experian Information Solutions Inc.    NV    89148  NaN   \n",
      "2           TD BANK US HOLDING COMPANY    FL    33055  NaN   \n",
      "3      Resurgent Capital Services L.P.    NC    27455  NaN   \n",
      "4  Experian Information Solutions Inc.    IL    60609  NaN   \n",
      "\n",
      "  Consumer consent provided? Submitted via Date sent to company  \\\n",
      "0                        NaN           Web           2025-01-29   \n",
      "1                        NaN           Web           2025-01-30   \n",
      "2                        NaN         Phone           2025-02-04   \n",
      "3                        NaN   Postal mail           2025-01-27   \n",
      "4                        NaN           Web           2025-01-28   \n",
      "\n",
      "  Company response to consumer Timely response? Consumer disputed?  \\\n",
      "0                  In progress              Yes                NaN   \n",
      "1                  In progress              Yes                NaN   \n",
      "2                  In progress              Yes                NaN   \n",
      "3                  In progress              Yes                NaN   \n",
      "4                  In progress              Yes                NaN   \n",
      "\n",
      "   Complaint ID  \n",
      "0      11825440  \n",
      "1      11844247  \n",
      "2      11824206  \n",
      "3      11799137  \n",
      "4      11810502  \n"
     ]
    }
   ],
   "source": [
    "# Loading the dataset\n",
    "df = pd.read_csv(r\"D:\\complaints.csv\")\n",
    "print(df.head())\n"
   ]
  },
  {
   "cell_type": "markdown",
   "metadata": {},
   "source": [
    "##### Filtering the dataset"
   ]
  },
  {
   "cell_type": "code",
   "execution_count": 3,
   "metadata": {},
   "outputs": [],
   "source": [
    "df = df[['Product', 'Consumer complaint narrative']]\n",
    "\n",
    "#Dropping the missing complaints\n",
    "df = df.dropna(subset=['Consumer complaint narrative'])"
   ]
  },
  {
   "cell_type": "code",
   "execution_count": 4,
   "metadata": {},
   "outputs": [],
   "source": [
    "# Resetting index\n",
    "df.reset_index(drop=True, inplace=True)"
   ]
  },
  {
   "cell_type": "code",
   "execution_count": 5,
   "metadata": {},
   "outputs": [
    {
     "name": "stdout",
     "output_type": "stream",
     "text": [
      "['Credit reporting or other personal consumer reports' 'Credit card'\n",
      " 'Money transfer, virtual currency, or money service' 'Debt collection'\n",
      " 'Student loan' 'Checking or savings account' 'Mortgage' 'Consumer Loan'\n",
      " 'Vehicle loan or lease' 'Debt or credit management'\n",
      " 'Payday loan, title loan, personal loan, or advance loan' 'Prepaid card'\n",
      " 'Credit reporting, credit repair services, or other personal consumer reports'\n",
      " 'Credit card or prepaid card' 'Payday loan, title loan, or personal loan'\n",
      " 'Bank account or service' 'Credit reporting' 'Payday loan'\n",
      " 'Money transfers' 'Other financial service' 'Virtual currency']\n"
     ]
    }
   ],
   "source": [
    "print(df['Product'].unique())\n"
   ]
  },
  {
   "cell_type": "code",
   "execution_count": 6,
   "metadata": {},
   "outputs": [
    {
     "name": "stdout",
     "output_type": "stream",
     "text": [
      "(2515449, 2)\n"
     ]
    }
   ],
   "source": [
    "print( df.shape)"
   ]
  },
  {
   "cell_type": "code",
   "execution_count": 7,
   "metadata": {},
   "outputs": [],
   "source": [
    "# Filtering out the non-required products\n",
    "product_mapping = {\n",
    "    'Credit reporting or other personal consumer reports': 0,\n",
    "    'Credit reporting, credit repair services, or other personal consumer reports': 0,\n",
    "    'Credit reporting': 0,\n",
    "    'Debt collection': 1,\n",
    "    'Consumer Loan': 2,\n",
    "    'Mortgage': 3\n",
    "}\n",
    "\n",
    "df['Product'] = df['Product'].str.strip()\n",
    "\n",
    "df['label'] = df['Product'].map(product_mapping)"
   ]
  },
  {
   "cell_type": "code",
   "execution_count": 8,
   "metadata": {},
   "outputs": [
    {
     "name": "stdout",
     "output_type": "stream",
     "text": [
      "(2034878, 3)\n"
     ]
    }
   ],
   "source": [
    "# removing the non-required products\n",
    "df = df.dropna(subset=['label'])\n",
    "\n",
    "print(df.shape)"
   ]
  },
  {
   "cell_type": "code",
   "execution_count": 9,
   "metadata": {},
   "outputs": [
    {
     "data": {
      "text/html": [
       "<div>\n",
       "<style scoped>\n",
       "    .dataframe tbody tr th:only-of-type {\n",
       "        vertical-align: middle;\n",
       "    }\n",
       "\n",
       "    .dataframe tbody tr th {\n",
       "        vertical-align: top;\n",
       "    }\n",
       "\n",
       "    .dataframe thead th {\n",
       "        text-align: right;\n",
       "    }\n",
       "</style>\n",
       "<table border=\"1\" class=\"dataframe\">\n",
       "  <thead>\n",
       "    <tr style=\"text-align: right;\">\n",
       "      <th></th>\n",
       "      <th>Product</th>\n",
       "      <th>Consumer complaint narrative</th>\n",
       "      <th>label</th>\n",
       "    </tr>\n",
       "  </thead>\n",
       "  <tbody>\n",
       "    <tr>\n",
       "      <th>0</th>\n",
       "      <td>Credit reporting or other personal consumer re...</td>\n",
       "      <td>Subject : Complaint Regarding Inaccurate Late ...</td>\n",
       "      <td>0.0</td>\n",
       "    </tr>\n",
       "    <tr>\n",
       "      <th>1</th>\n",
       "      <td>Credit reporting or other personal consumer re...</td>\n",
       "      <td>Subject : Formal Complaint Against XXXX and Tr...</td>\n",
       "      <td>0.0</td>\n",
       "    </tr>\n",
       "    <tr>\n",
       "      <th>2</th>\n",
       "      <td>Credit reporting or other personal consumer re...</td>\n",
       "      <td>Subject : Follow-Up on Dispute Submitted XX/XX...</td>\n",
       "      <td>0.0</td>\n",
       "    </tr>\n",
       "    <tr>\n",
       "      <th>3</th>\n",
       "      <td>Credit reporting or other personal consumer re...</td>\n",
       "      <td>XX/XX/year&gt; Subject : XXXX XXXX XXXX TransUnio...</td>\n",
       "      <td>0.0</td>\n",
       "    </tr>\n",
       "    <tr>\n",
       "      <th>4</th>\n",
       "      <td>Credit reporting or other personal consumer re...</td>\n",
       "      <td>XXXX XXXX XXXX XXXX XXXX XXXX XXXX XXXX XXXX X...</td>\n",
       "      <td>0.0</td>\n",
       "    </tr>\n",
       "  </tbody>\n",
       "</table>\n",
       "</div>"
      ],
      "text/plain": [
       "                                             Product  \\\n",
       "0  Credit reporting or other personal consumer re...   \n",
       "1  Credit reporting or other personal consumer re...   \n",
       "2  Credit reporting or other personal consumer re...   \n",
       "3  Credit reporting or other personal consumer re...   \n",
       "4  Credit reporting or other personal consumer re...   \n",
       "\n",
       "                        Consumer complaint narrative  label  \n",
       "0  Subject : Complaint Regarding Inaccurate Late ...    0.0  \n",
       "1  Subject : Formal Complaint Against XXXX and Tr...    0.0  \n",
       "2  Subject : Follow-Up on Dispute Submitted XX/XX...    0.0  \n",
       "3  XX/XX/year> Subject : XXXX XXXX XXXX TransUnio...    0.0  \n",
       "4  XXXX XXXX XXXX XXXX XXXX XXXX XXXX XXXX XXXX X...    0.0  "
      ]
     },
     "execution_count": 9,
     "metadata": {},
     "output_type": "execute_result"
    }
   ],
   "source": [
    "df.head()"
   ]
  },
  {
   "cell_type": "markdown",
   "metadata": {},
   "source": [
    "##### Checking if dataset is balanced after filtering out"
   ]
  },
  {
   "cell_type": "code",
   "execution_count": 10,
   "metadata": {},
   "outputs": [
    {
     "name": "stdout",
     "output_type": "stream",
     "text": [
      "['Credit reporting or other personal consumer reports' 'Debt collection'\n",
      " 'Mortgage' 'Consumer Loan'\n",
      " 'Credit reporting, credit repair services, or other personal consumer reports'\n",
      " 'Credit reporting']\n"
     ]
    }
   ],
   "source": [
    "print(df['Product'].unique())\n"
   ]
  },
  {
   "cell_type": "code",
   "execution_count": 11,
   "metadata": {},
   "outputs": [
    {
     "name": "stdout",
     "output_type": "stream",
     "text": [
      "label\n",
      "0.0    1595289\n",
      "1.0     304468\n",
      "3.0     125660\n",
      "2.0       9461\n",
      "Name: count, dtype: int64\n"
     ]
    }
   ],
   "source": [
    "# Drop rows that don't match the selected categories\n",
    "df = df.dropna(subset=['label'])\n",
    "\n",
    "print(df['label'].value_counts())"
   ]
  },
  {
   "cell_type": "code",
   "execution_count": 12,
   "metadata": {},
   "outputs": [
    {
     "data": {
      "image/png": "[encoded data removed]",
      "text/plain": [
       "<Figure size 800x500 with 1 Axes>"
      ]
     },
     "metadata": {},
     "output_type": "display_data"
    }
   ],
   "source": [
    "# Class Distribution\n",
    "plt.figure(figsize=(8, 5))\n",
    "sns.countplot(x='label', data=df)\n",
    "plt.title('Class Distribution')\n",
    "plt.xlabel('Class Labels')\n",
    "plt.ylabel('Number of Complaints')\n",
    "plt.show()\n",
    "\n"
   ]
  },
  {
   "cell_type": "code",
   "execution_count": 13,
   "metadata": {},
   "outputs": [
    {
     "data": {
      "image/png": "[encoded data removed]",
      "text/plain": [
       "<Figure size 800x500 with 1 Axes>"
      ]
     },
     "metadata": {},
     "output_type": "display_data"
    }
   ],
   "source": [
    "# Complaint Length Distribution\n",
    "df['Complaint Length'] = df['Consumer complaint narrative'].apply(lambda x: len(x.split()))\n",
    "\n",
    "plt.figure(figsize=(8, 5))\n",
    "sns.histplot(df['Complaint Length'], bins=50, kde=True)\n",
    "plt.title('Complaint Length Distribution')\n",
    "plt.xlabel('Number of Words')\n",
    "plt.ylabel('Frequency')\n",
    "plt.show()"
   ]
  },
  {
   "cell_type": "markdown",
   "metadata": {},
   "source": [
    "### 2.Text Pre-Processing  "
   ]
  },
  {
   "cell_type": "code",
   "execution_count": 3,
   "metadata": {},
   "outputs": [
    {
     "name": "stderr",
     "output_type": "stream",
     "text": [
      "[nltk_data] Downloading package stopwords to\n",
      "[nltk_data]     C:\\Users\\Muhilan\\AppData\\Roaming\\nltk_data...\n",
      "[nltk_data]   Package stopwords is already up-to-date!\n",
      "[nltk_data] Downloading package wordnet to\n",
      "[nltk_data]     C:\\Users\\Muhilan\\AppData\\Roaming\\nltk_data...\n",
      "[nltk_data]   Package wordnet is already up-to-date!\n"
     ]
    },
    {
     "data": {
      "text/plain": [
       "True"
      ]
     },
     "execution_count": 3,
     "metadata": {},
     "output_type": "execute_result"
    }
   ],
   "source": [
    "#Removing stopwords and special characters, Lowering and lemmatizing the dataset \n",
    "import re\n",
    "import nltk\n",
    "from nltk.corpus import stopwords\n",
    "from nltk.stem import WordNetLemmatizer\n",
    "\n",
    "nltk.download('stopwords')\n",
    "nltk.download('wordnet')"
   ]
  },
  {
   "cell_type": "code",
   "execution_count": 15,
   "metadata": {},
   "outputs": [],
   "source": [
    "stop_words = set(stopwords.words('english'))\n",
    "lemmatizer = WordNetLemmatizer()\n",
    "\n",
    "# Text Cleaning Function\n",
    "def clean_text(text):\n",
    "    text = str(text).lower()                              \n",
    "    text = re.sub(r'[^a-zA-Z]', ' ', text)                \n",
    "    text = text.split()\n",
    "    text = [word for word in text if word not in stop_words]  \n",
    "    text = [lemmatizer.lemmatize(word) for word in text]      \n",
    "    return ' '.join(text)"
   ]
  },
  {
   "cell_type": "code",
   "execution_count": 16,
   "metadata": {},
   "outputs": [
    {
     "name": "stdout",
     "output_type": "stream",
     "text": [
      "0    subject complaint regarding inaccurate late pa...\n",
      "1    subject formal complaint xxxx transunion non c...\n",
      "2    subject follow dispute submitted xx xx year re...\n",
      "3    xx xx year subject xxxx xxxx xxxx transunion x...\n",
      "4    xxxx xxxx xxxx xxxx xxxx xxxx xxxx xxxx xxxx x...\n",
      "Name: Cleaned_Complaint, dtype: object\n"
     ]
    }
   ],
   "source": [
    "#Cleaning the dataset\n",
    "df['Cleaned_Complaint'] = df['Consumer complaint narrative'].apply(clean_text)\n",
    "\n",
    "print(df['Cleaned_Complaint'].head())"
   ]
  },
  {
   "cell_type": "markdown",
   "metadata": {},
   "source": [
    "#### Vectorizing the data using TF-IDF vectorization"
   ]
  },
  {
   "cell_type": "code",
   "execution_count": 17,
   "metadata": {},
   "outputs": [
    {
     "name": "stdout",
     "output_type": "stream",
     "text": [
      "Shape of X: (2034878, 5000)\n",
      "Shape of y: (2034878,)\n"
     ]
    }
   ],
   "source": [
    "from sklearn.feature_extraction.text import TfidfVectorizer\n",
    "\n",
    "tfidf = TfidfVectorizer(max_features=5000) \n",
    "X = tfidf.fit_transform(df['Cleaned_Complaint'])\n",
    "\n",
    "y = df['label']\n",
    "print(\"Shape of X:\", X.shape)\n",
    "print(\"Shape of y:\", y.shape)\n"
   ]
  },
  {
   "cell_type": "markdown",
   "metadata": {},
   "source": [
    "##### Balancing the dataset with the help of SMOTE"
   ]
  },
  {
   "cell_type": "code",
   "execution_count": 18,
   "metadata": {},
   "outputs": [
    {
     "name": "stdout",
     "output_type": "stream",
     "text": [
      "Before SMOTE:\n",
      "label\n",
      "0.0    1276231\n",
      "1.0     243574\n",
      "3.0     100528\n",
      "2.0       7569\n",
      "Name: count, dtype: int64\n"
     ]
    }
   ],
   "source": [
    "from sklearn.model_selection import train_test_split\n",
    "\n",
    "# Splitting Dataset\n",
    "X_train, X_test, y_train, y_test = train_test_split(X, y, test_size=0.2, random_state=42, stratify=y)\n",
    "\n",
    "print(\"Before SMOTE:\")\n",
    "print(y_train.value_counts())"
   ]
  },
  {
   "cell_type": "code",
   "execution_count": 21,
   "metadata": {},
   "outputs": [
    {
     "name": "stdout",
     "output_type": "stream",
     "text": [
      "Balanced Dataset Class Distribution:\n",
      " label\n",
      "0.0    7569\n",
      "1.0    7569\n",
      "2.0    7569\n",
      "3.0    7569\n",
      "Name: count, dtype: int64\n"
     ]
    }
   ],
   "source": [
    "# Balancing the dataset by undersampling majority classes\n",
    "df_balanced = pd.concat([\n",
    "    df[df['label'] == 0].sample(7569, random_state=42),\n",
    "    df[df['label'] == 1].sample(7569, random_state=42),\n",
    "    df[df['label'] == 2].sample(7569, random_state=42),\n",
    "    df[df['label'] == 3].sample(7569, random_state=42)\n",
    "], axis=0).reset_index(drop=True)\n",
    "\n",
    "# Checking the new class distribution\n",
    "print(\"Balanced Dataset Class Distribution:\\n\", df_balanced['label'].value_counts())\n"
   ]
  },
  {
   "cell_type": "code",
   "execution_count": 28,
   "metadata": {},
   "outputs": [
    {
     "name": "stdout",
     "output_type": "stream",
     "text": [
      "\n",
      "After SMOTE:\n",
      "label\n",
      "0.0    1276231\n",
      "1.0    1276231\n",
      "3.0    1276231\n",
      "2.0    1276231\n",
      "Name: count, dtype: int64\n"
     ]
    }
   ],
   "source": [
    "from imblearn.over_sampling import SMOTE\n",
    "\n",
    "smote = SMOTE(random_state=42)\n",
    "X_train_smote, y_train_smote = smote.fit_resample(X_train, y_train)\n",
    "\n",
    "print(\"\\nAfter SMOTE:\")\n",
    "print(y_train_smote.value_counts())"
   ]
  },
  {
   "cell_type": "code",
   "execution_count": 53,
   "metadata": {},
   "outputs": [
    {
     "name": "stdout",
     "output_type": "stream",
     "text": [
      "SMOTE-applied data saved successfully.\n"
     ]
    }
   ],
   "source": [
    "import pandas as pd\n",
    "\n",
    "# Convert the SMOTE-applied features to DataFrame\n",
    "X_train_smote_df = pd.DataFrame(X_train_smote)\n",
    "\n",
    "# Add the target labels as a new column\n",
    "X_train_smote_df['target'] = y_train_smote.values\n",
    "\n",
    "# Save the data to a CSV file\n",
    "X_train_smote_df.to_csv(\"smote_applied_data.csv\", index=False)\n",
    "\n",
    "print(\"SMOTE-applied data saved successfully.\")\n"
   ]
  },
  {
   "cell_type": "markdown",
   "metadata": {},
   "source": [
    "## 3.Selection of Multi Classification model"
   ]
  },
  {
   "cell_type": "markdown",
   "metadata": {},
   "source": [
    "#### For the given project, both Machine Learning and Deep Learning models could be considered. Machine learning models like Logistic Regression could be selected as a baseline model due to their simplicity, faster training time, and interpretability. On the other hand, Deep Learning models such as BiLSTM could be chosen. For better understanding lets try to compare both the models.(i.e,Logistic Regression and BiLSTM)."
   ]
  },
  {
   "cell_type": "markdown",
   "metadata": {},
   "source": [
    "## 4.Comparison of model performance and 5.Model Evaluation "
   ]
  },
  {
   "cell_type": "markdown",
   "metadata": {},
   "source": [
    "### For model comnparison we will be trying with BiLSTM model because of its better understandability and Logistic Regression model because of its better interpretability.\n",
    "\n",
    "BiLSTM outperforms Logistic Regression due to its ability to process sequential data bidirectionally, understand long-term dependencies, handle class imbalances, and leverage meaningful word embeddings—all of which contribute to higher accuracy and recall in complaint categorization.\n",
    "\n",
    "Logistic Regression is a simple linear model that treats words independently and lacks sequential understanding.\r\n",
    "BiLSTM processes text in both forward and backward directions, capturing long-range dependencies in complaints. This helps in understanding the context better, especially in cases where words at the beginning and end influence the category."
   ]
  },
  {
   "cell_type": "markdown",
   "metadata": {},
   "source": [
    "##### Implementation of Logistic Regression"
   ]
  },
  {
   "cell_type": "code",
   "execution_count": 23,
   "metadata": {},
   "outputs": [
    {
     "name": "stdout",
     "output_type": "stream",
     "text": [
      "Accuracy Score: 0.868229854689564\n",
      "\n",
      "Classification Report:\n",
      "               precision    recall  f1-score   support\n",
      "\n",
      "         0.0       0.84      0.87      0.85      1489\n",
      "         1.0       0.83      0.81      0.82      1575\n",
      "         2.0       0.87      0.85      0.86      1484\n",
      "         3.0       0.94      0.95      0.94      1508\n",
      "\n",
      "    accuracy                           0.87      6056\n",
      "   macro avg       0.87      0.87      0.87      6056\n",
      "weighted avg       0.87      0.87      0.87      6056\n",
      "\n"
     ]
    }
   ],
   "source": [
    "from sklearn.model_selection import train_test_split\n",
    "from sklearn.linear_model import LogisticRegression\n",
    "from sklearn.metrics import classification_report, accuracy_score, confusion_matrix\n",
    "\n",
    "# Vectorizing the balanced dataset\n",
    "X = tfidf.transform(df_balanced['Cleaned_Complaint'])  # Reuse the same TF-IDF vectorizer\n",
    "y = df_balanced['label']\n",
    "\n",
    "# Splitting the dataset\n",
    "X_train, X_test, y_train, y_test = train_test_split(X, y, test_size=0.2, random_state=42)\n",
    "\n",
    "# Initializing and training the Logistic Regression model\n",
    "lr_model = LogisticRegression(max_iter=1000, random_state=42)\n",
    "lr_model.fit(X_train, y_train)\n",
    "\n",
    "# Making Predictions\n",
    "y_pred = lr_model.predict(X_test)\n",
    "\n",
    "# Evaluation Metrics\n",
    "print(\"Accuracy Score:\", accuracy_score(y_test, y_pred))\n",
    "print(\"\\nClassification Report:\\n\", classification_report(y_test, y_pred))\n"
   ]
  },
  {
   "cell_type": "markdown",
   "metadata": {},
   "source": [
    "##### Implementation and evaluation of BiLSTM"
   ]
  },
  {
   "cell_type": "code",
   "execution_count": 26,
   "metadata": {},
   "outputs": [
    {
     "name": "stdout",
     "output_type": "stream",
     "text": [
      "Using device: cuda\n"
     ]
    }
   ],
   "source": [
    "import torch\n",
    "import torch.nn as nn\n",
    "import torch.optim as optim\n",
    "from torch.utils.data import DataLoader\n",
    "from sklearn.metrics import classification_report\n",
    "\n",
    "# Check if CUDA is available\n",
    "device = torch.device(\"cuda\" if torch.cuda.is_available() else \"cpu\")\n",
    "print(f\"Using device: {device}\")\n",
    "\n",
    "# BiLSTM Model\n",
    "class BiLSTM(nn.Module):\n",
    "    def __init__(self, input_dim, hidden_dim, output_dim, dropout=0.3):\n",
    "        super(BiLSTM, self).__init__()\n",
    "        self.lstm = nn.LSTM(input_dim, hidden_dim, num_layers=2, bidirectional=True, batch_first=True, dropout=dropout)\n",
    "        self.fc = nn.Linear(hidden_dim * 2, output_dim)  # 2 for bidirectional\n",
    "        self.dropout = nn.Dropout(dropout)\n",
    "        self.softmax = nn.LogSoftmax(dim=1)\n",
    "        \n",
    "    def forward(self, x):\n",
    "        x = x.unsqueeze(1)  # Add sequence length dimension\n",
    "        lstm_out, _ = self.lstm(x)\n",
    "        out = self.dropout(lstm_out[:, -1, :])\n",
    "        out = self.fc(out)\n",
    "        return self.softmax(out)\n",
    "\n",
    "# Parameters\n",
    "input_dim = X_train.shape[1]  # TF-IDF features\n",
    "hidden_dim = 128\n",
    "output_dim = len(set(y_train))\n",
    "batch_size = 256\n",
    "epochs = 2\n",
    "lr = 0.001\n"
   ]
  },
  {
   "cell_type": "code",
   "execution_count": 28,
   "metadata": {},
   "outputs": [
    {
     "name": "stdout",
     "output_type": "stream",
     "text": [
      "Training BiLSTM model with Batches...\n",
      "Epoch 1/2, Loss: 0.9311545632387462\n",
      "Epoch 2/2, Loss: 0.3622493383131529\n",
      "              precision    recall  f1-score   support\n",
      "\n",
      "           0       0.87      0.90      0.88      6080\n",
      "           1       0.89      0.83      0.86      5994\n",
      "           2       0.90      0.92      0.91      6085\n",
      "           3       0.97      0.96      0.96      6061\n",
      "\n",
      "    accuracy                           0.90     24220\n",
      "   macro avg       0.90      0.90      0.90     24220\n",
      "weighted avg       0.90      0.90      0.90     24220\n",
      "\n"
     ]
    }
   ],
   "source": [
    "# Model Initialization\n",
    "model = BiLSTM(input_dim, hidden_dim, output_dim).to(device)\n",
    "criterion = nn.CrossEntropyLoss()\n",
    "optimizer = optim.Adam(model.parameters(), lr=lr)\n",
    "\n",
    "# Generator to convert sparse matrix to dense tensors in batches\n",
    "class SparseDataset(torch.utils.data.IterableDataset):\n",
    "    def __init__(self, X_sparse, y, batch_size):\n",
    "        self.X_sparse = X_sparse\n",
    "        self.y = y\n",
    "        self.batch_size = batch_size\n",
    "        self.indices = list(range(0, X_sparse.shape[0], batch_size))\n",
    "        \n",
    "    def __iter__(self):\n",
    "        for i in self.indices:\n",
    "            X_batch = torch.tensor(self.X_sparse[i:i+self.batch_size].toarray(), dtype=torch.float32)\n",
    "            y_batch = torch.tensor(self.y[i:i+self.batch_size].values, dtype=torch.long)\n",
    "            yield X_batch, y_batch\n",
    "\n",
    "# Create Dataset and DataLoader\n",
    "dataset = SparseDataset(X_train, y_train, batch_size)\n",
    "dataloader = DataLoader(dataset, batch_size=None)\n",
    "\n",
    "# Training Loop with Batches\n",
    "print(\"Training BiLSTM model with Batches...\")\n",
    "model.train()\n",
    "for epoch in range(epochs):\n",
    "    total_loss = 0\n",
    "    for X_batch, y_batch in dataloader:\n",
    "        X_batch = X_batch.to(device)\n",
    "        y_batch = y_batch.to(device)\n",
    "\n",
    "        optimizer.zero_grad()\n",
    "        outputs = model(X_batch)\n",
    "        loss = criterion(outputs, y_batch)\n",
    "        loss.backward()\n",
    "        optimizer.step()\n",
    "        total_loss += loss.item()\n",
    "\n",
    "    print(f\"Epoch {epoch+1}/{epochs}, Loss: {total_loss/len(dataset.indices)}\")\n",
    "\n",
    "# Evaluation\n",
    "model.eval()\n",
    "y_true = []\n",
    "y_pred = []\n",
    "with torch.no_grad():\n",
    "    for X_batch, y_batch in dataloader:\n",
    "        X_batch = X_batch.to(device)\n",
    "        y_batch = y_batch.to(device)\n",
    "        outputs = model(X_batch)\n",
    "        predictions = outputs.argmax(dim=1).cpu().numpy()\n",
    "        y_true.extend(y_batch.cpu().numpy())\n",
    "        y_pred.extend(predictions)\n",
    "\n",
    "print(classification_report(y_true, y_pred))\n"
   ]
  },
  {
   "cell_type": "markdown",
   "metadata": {},
   "source": [
    "### BiLSTM model performs better than Logistic Regression due to its higher accuracy and recall.\n",
    "\n"
   ]
  },
  {
   "cell_type": "markdown",
   "metadata": {},
   "source": [
    "## 6.Prediction  "
   ]
  },
  {
   "cell_type": "code",
   "execution_count": 29,
   "metadata": {},
   "outputs": [
    {
     "name": "stdout",
     "output_type": "stream",
     "text": [
      "Complaint: I am facing issues with my credit report.\n",
      "Predicted Class: Credit reporting or other personal consumer reports\n",
      "\n",
      "Complaint: Debt collector is harassing me with frequent calls.\n",
      "Predicted Class: Debt collection\n",
      "\n",
      "Complaint: I am unable to pay my mortgage loan.\n",
      "Predicted Class: Mortgage\n",
      "\n",
      "Complaint: I applied for a consumer loan but got rejected without any reason.\n",
      "Predicted Class: Consumer Loan\n",
      "\n"
     ]
    }
   ],
   "source": [
    "# Example Complaints\n",
    "new_complaints = [\n",
    "    \"I am facing issues with my credit report.\",\n",
    "    \"Debt collector is harassing me with frequent calls.\",\n",
    "    \"I am unable to pay my mortgage loan.\",\n",
    "    \"I applied for a consumer loan but got rejected without any reason.\"\n",
    "]\n",
    "\n",
    "# Preprocess the complaints (Apply the same cleaning function)\n",
    "new_complaints_cleaned = [clean_text(text) for text in new_complaints]\n",
    "\n",
    "# Vectorize the cleaned complaints using the same TF-IDF Vectorizer\n",
    "X_new = tfidf.transform(new_complaints_cleaned)\n",
    "\n",
    "# Convert to PyTorch Tensor\n",
    "X_new_tensor = torch.tensor(X_new.toarray(), dtype=torch.float).to(device)\n",
    "\n",
    "# Set the model to evaluation mode\n",
    "model.eval()\n",
    "\n",
    "# Perform Prediction\n",
    "with torch.no_grad():\n",
    "    predictions = model(X_new_tensor)\n",
    "    predicted_classes = torch.argmax(predictions, axis=1).cpu().numpy()\n",
    "\n",
    "# Mapping Labels back to Product Names\n",
    "label_mapping = {\n",
    "    0: 'Credit reporting or other personal consumer reports',\n",
    "    1: 'Debt collection',\n",
    "    2: 'Consumer Loan',\n",
    "    3: 'Mortgage'\n",
    "}\n",
    "\n",
    "# Display Results\n",
    "for text, pred in zip(new_complaints, predicted_classes):\n",
    "    print(f\"Complaint: {text}\")\n",
    "    print(f\"Predicted Class: {label_mapping[pred]}\")\n",
    "    print()\n"
   ]
  },
  {
   "cell_type": "markdown",
   "metadata": {},
   "source": [
    "# Areas of Improvement:\n",
    "\n",
    "*   **Using better model**: The project could be more better if we had used BERT model. Due less computational power we werent able perform BERT model.\n",
    "*   **Hyperparameter Tuning**: The project could be more better if we had tuned the model as well as increase the epoch count by applying early stop.\n",
    "*   **Introducing interpretability**: Performing interpretability may help us to know which word contributes the most for classification.\n",
    "*   **Using complete SMOTE applied data**: We had undersampled the dataset due to lack of computaional power, Using more data may help us to improve the model performance.\n"
   ]
  }
 ],
 "metadata": {
  "kernelspec": {
   "display_name": "Python 3 (ipykernel)",
   "language": "python",
   "name": "python3"
  },
  "language_info": {
   "codemirror_mode": {
    "name": "ipython",
    "version": 3
   },
   "file_extension": ".py",
   "mimetype": "text/x-python",
   "name": "python",
   "nbconvert_exporter": "python",
   "pygments_lexer": "ipython3",
   "version": "3.11.1"
  }
 },
 "nbformat": 4,
 "nbformat_minor": 4
}
